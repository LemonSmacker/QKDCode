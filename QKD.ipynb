{
 "cells": [
  {
   "cell_type": "code",
   "execution_count": 1,
   "id": "0f5e7770",
   "metadata": {},
   "outputs": [],
   "source": [
    "from qiskit import *"
   ]
  },
  {
   "cell_type": "code",
   "execution_count": 2,
   "id": "fc734234",
   "metadata": {},
   "outputs": [],
   "source": [
    "import numpy as np"
   ]
  },
  {
   "cell_type": "code",
   "execution_count": 10,
   "id": "c9b45111",
   "metadata": {},
   "outputs": [],
   "source": [
    "def prepare_qubits():\n",
    "    qubits = QuantumCircuit(2, 2)\n",
    "    qubits.h(0)\n",
    "    qubits.cx(0, 1)\n",
    "    qubits.measure(0, 0)\n",
    "    qubits.measure(1, 1)\n",
    "    return qubits\n",
    "def measure_qubits(qubits, basis_choice):\n",
    "    if basis_choice == 0:\n",
    "        qubits.h(0)\n",
    "    qubits.measure(0, 0)\n",
    "    qubits.measure(1, 1)\n",
    "    return qubits"
   ]
  },
  {
   "cell_type": "code",
   "execution_count": 123,
   "id": "6b0f91d9",
   "metadata": {},
   "outputs": [
    {
     "name": "stdout",
     "output_type": "stream",
     "text": [
      "Basis choice of A: 0\n",
      "Basis choice of B: 1\n",
      "Measurement result of A: 1\n",
      "Measurement result of B: 1\n",
      "Shared key bit: 1\n"
     ]
    }
   ],
   "source": [
    "circuit_a = prepare_qubits()\n",
    "basis_choice = np.random.randint(2)\n",
    "circuit_b = measure_qubits(circuit_a.copy(), basis_choice)\n",
    "simulator = Aer.get_backend('aer_simulator')\n",
    "result_a = execute(circuit_a, simulator, shots=1).result()\n",
    "result_b = execute(circuit_b, simulator, shots=1).result()\n",
    "print(f\"Basis choice of A: 0\")\n",
    "print(f\"Basis choice of B: {basis_choice}\")\n",
    "measurement_a = int(list(result_a.get_counts().keys())[0][0])\n",
    "measurement_b = int(list(result_b.get_counts().keys())[0][1])\n",
    "print(f\"Measurement result of A: {measurement_a}\")\n",
    "print(f\"Measurement result of B: {measurement_b}\")\n",
    "if basis_choice == 0:\n",
    "    key_bit = measurement_a\n",
    "else:\n",
    "    key_bit = measurement_b\n",
    "print(f\"Shared key bit: {key_bit}\")"
   ]
  },
  {
   "cell_type": "code",
   "execution_count": null,
   "id": "d2e1cde9",
   "metadata": {},
   "outputs": [],
   "source": []
  }
 ],
 "metadata": {
  "kernelspec": {
   "display_name": "Python 3 (ipykernel)",
   "language": "python",
   "name": "python3"
  },
  "language_info": {
   "codemirror_mode": {
    "name": "ipython",
    "version": 3
   },
   "file_extension": ".py",
   "mimetype": "text/x-python",
   "name": "python",
   "nbconvert_exporter": "python",
   "pygments_lexer": "ipython3",
   "version": "3.11.5"
  }
 },
 "nbformat": 4,
 "nbformat_minor": 5
}
